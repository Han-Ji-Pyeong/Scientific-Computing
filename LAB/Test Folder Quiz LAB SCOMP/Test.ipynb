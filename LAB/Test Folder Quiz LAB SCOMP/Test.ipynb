{
 "cells": [
  {
   "cell_type": "code",
   "execution_count": null,
   "metadata": {},
   "outputs": [],
   "source": [
    "#Newton Rhapson\n",
    "\n",
    "# import library - numpy\n",
    "import numpy as np"
   ]
  },
  {
   "cell_type": "code",
   "execution_count": null,
   "metadata": {},
   "outputs": [],
   "source": [
    "#introduce function line -> f(x)\n",
    "# x^2 + 3x - 4\n",
    "\n",
    "def f(x):\n",
    "    return x**2 + 3*x - 4\n",
    "\n",
    "# Introduction function derivative line -> f_derivative(x)\n",
    "\n",
    "def f_derivative(x):\n",
    "    return 2*x +3\n",
    "\n",
    "# Newton Raphson Function\n",
    "\n",
    "def newtonRaphson(f0, f1, X0, epsilon = 0.001, max_iteration = 11):\n",
    "    # 1. Iterate through max_iteration\n",
    "    for i in range(1, max_iteration):\n",
    "        # 2. Enter newton Raphson Formula\n",
    "        X1 = "
   ]
  }
 ],
 "metadata": {
  "kernelspec": {
   "display_name": "Python 3",
   "language": "python",
   "name": "python3"
  },
  "language_info": {
   "name": "python",
   "version": "3.11.2"
  },
  "orig_nbformat": 4
 },
 "nbformat": 4,
 "nbformat_minor": 2
}
