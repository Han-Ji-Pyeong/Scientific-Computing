{
 "cells": [
  {
   "cell_type": "code",
   "execution_count": 57,
   "metadata": {},
   "outputs": [],
   "source": [
    "import sympy as sp"
   ]
  },
  {
   "cell_type": "code",
   "execution_count": 64,
   "metadata": {},
   "outputs": [],
   "source": [
    "x = sp.symbols('x')\n",
    "sinx = sp.sin(x)\n",
    "cosx = sp.cos(x)\n",
    "sinxcosx = sinx * cosx\n",
    "sinx_taylor = sinx.series(x, 0, 5).removeO().subs(x, sp.pi/2)\n",
    "cosx_taylor = cosx.series(x, 0, 5).removeO().subs(x, sp.pi/2)\n",
    "sinxcosx_taylor = sinxcosx.series(x, 0, 5).removeO().subs(x,sp.pi/2)\n"
   ]
  },
  {
   "cell_type": "code",
   "execution_count": 65,
   "metadata": {},
   "outputs": [],
   "source": [
    "sinx_decimal = sinx_taylor.evalf()\n",
    "cosx_decimal = cosx_taylor.evalf()\n",
    "sinxcosx_decimal = sinxcosx_taylor.evalf()"
   ]
  },
  {
   "cell_type": "code",
   "execution_count": 66,
   "metadata": {},
   "outputs": [
    {
     "name": "stdout",
     "output_type": "stream",
     "text": [
      "sin(x) =\n",
      "-pi**3/48 + pi/2\n",
      "sin(x) (decimal) = 0.924832229288650\n",
      "\n",
      "cos(x) =\n",
      "-pi**2/8 + pi**4/384 + 1\n",
      "cos(x) (decimal) = 0.0199689577648782\n",
      "\n",
      "sin(x)cos(x) =\n",
      "-pi**3/12 + pi/2\n",
      "sin(x)cos(x) (decimal) = -1.01306006323009\n"
     ]
    }
   ],
   "source": [
    "print(\"sin(x) =\")\n",
    "print(sinx_taylor)\n",
    "print(\"sin(x) (decimal) =\", sinx_decimal)\n",
    "print()\n",
    "print(\"cos(x) =\")\n",
    "print(cosx_taylor)\n",
    "print(\"cos(x) (decimal) =\", cosx_decimal)\n",
    "print()\n",
    "print(\"sin(x)cos(x) =\")\n",
    "print(sinxcosx_taylor)\n",
    "print(\"sin(x)cos(x) (decimal) =\", sinxcosx_decimal)\n",
    "\n",
    "\n"
   ]
  }
 ],
 "metadata": {
  "kernelspec": {
   "display_name": "Python 3",
   "language": "python",
   "name": "python3"
  },
  "language_info": {
   "codemirror_mode": {
    "name": "ipython",
    "version": 3
   },
   "file_extension": ".py",
   "mimetype": "text/x-python",
   "name": "python",
   "nbconvert_exporter": "python",
   "pygments_lexer": "ipython3",
   "version": "3.11.2"
  },
  "orig_nbformat": 4
 },
 "nbformat": 4,
 "nbformat_minor": 2
}
